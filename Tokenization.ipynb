{
 "cells": [
  {
   "cell_type": "code",
   "execution_count": 1,
   "id": "30a0b36e-aa8c-434b-874e-e7952708addb",
   "metadata": {},
   "outputs": [],
   "source": [
    "import os\n",
    "import nltk\n",
    "import nltk.corpus"
   ]
  },
  {
   "cell_type": "code",
   "execution_count": 2,
   "id": "082e0d11-c1c8-4242-abd6-3e5e450313e4",
   "metadata": {},
   "outputs": [
    {
     "name": "stderr",
     "output_type": "stream",
     "text": [
      "[nltk_data] Downloading package brown to\n",
      "[nltk_data]     /Users/adityachaudhary/nltk_data...\n",
      "[nltk_data]   Package brown is already up-to-date!\n"
     ]
    },
    {
     "data": {
      "text/plain": [
       "True"
      ]
     },
     "execution_count": 2,
     "metadata": {},
     "output_type": "execute_result"
    }
   ],
   "source": [
    "from nltk.corpus import brown\n",
    "nltk.download('brown')\n",
    "\n"
   ]
  },
  {
   "cell_type": "code",
   "execution_count": 3,
   "id": "b0b2a547-4f62-4c1f-83e3-a195ea2ce97b",
   "metadata": {},
   "outputs": [
    {
     "data": {
      "text/plain": [
       "['The', 'Fulton', 'County', 'Grand', 'Jury', 'said', ...]"
      ]
     },
     "execution_count": 3,
     "metadata": {},
     "output_type": "execute_result"
    }
   ],
   "source": [
    "brown.words()\n"
   ]
  },
  {
   "cell_type": "code",
   "execution_count": 4,
   "id": "72580bb8",
   "metadata": {},
   "outputs": [
    {
     "name": "stderr",
     "output_type": "stream",
     "text": [
      "[nltk_data] Downloading package gutenberg to\n",
      "[nltk_data]     /Users/adityachaudhary/nltk_data...\n",
      "[nltk_data]   Package gutenberg is already up-to-date!\n"
     ]
    },
    {
     "data": {
      "text/plain": [
       "True"
      ]
     },
     "execution_count": 4,
     "metadata": {},
     "output_type": "execute_result"
    }
   ],
   "source": [
    " nltk.download('gutenberg')"
   ]
  },
  {
   "cell_type": "code",
   "execution_count": 5,
   "id": "3d0453b5",
   "metadata": {},
   "outputs": [
    {
     "data": {
      "text/plain": [
       "['austen-emma.txt',\n",
       " 'austen-persuasion.txt',\n",
       " 'austen-sense.txt',\n",
       " 'bible-kjv.txt',\n",
       " 'blake-poems.txt',\n",
       " 'bryant-stories.txt',\n",
       " 'burgess-busterbrown.txt',\n",
       " 'carroll-alice.txt',\n",
       " 'chesterton-ball.txt',\n",
       " 'chesterton-brown.txt',\n",
       " 'chesterton-thursday.txt',\n",
       " 'edgeworth-parents.txt',\n",
       " 'melville-moby_dick.txt',\n",
       " 'milton-paradise.txt',\n",
       " 'shakespeare-caesar.txt',\n",
       " 'shakespeare-hamlet.txt',\n",
       " 'shakespeare-macbeth.txt',\n",
       " 'whitman-leaves.txt']"
      ]
     },
     "execution_count": 5,
     "metadata": {},
     "output_type": "execute_result"
    }
   ],
   "source": [
    "nltk.corpus.gutenberg.fileids()"
   ]
  },
  {
   "cell_type": "code",
   "execution_count": 6,
   "id": "f2857f53",
   "metadata": {},
   "outputs": [],
   "source": [
    "hamlet=nltk.corpus.gutenberg.words('shakespeare-hamlet.txt')"
   ]
  },
  {
   "cell_type": "code",
   "execution_count": 7,
   "id": "35f9abb1",
   "metadata": {},
   "outputs": [
    {
     "name": "stdout",
     "output_type": "stream",
     "text": [
      "[ The Tragedie of Hamlet by William Shakespeare 1599 ] Actus Primus . Scoena Prima . Enter Barnardo and Francisco two Centinels . Barnardo . Who ' s there ? Fran . Nay answer me : Stand & vnfold your selfe Bar . Long liue the King Fran . Barnardo ? Bar . He Fran . You come most carefully vpon your houre Bar . ' Tis now strook twelue , get thee to bed Francisco Fran . For this releefe much thankes : ' Tis bitter cold , And I am sicke at heart Barn . Haue you had quiet Guard ? Fran . Not a Mouse stirring Barn . Well , goodnight . If you do meet Horatio and Marcellus , the Riuals of my Watch , bid them make hast . Enter Horatio and Marcellus . Fran . I thinke I heare them . Stand : who ' s there ? Hor . Friends to this ground Mar . And Leige - men to the Dane Fran . Giue you good night Mar . O farwel honest Soldier , who hath relieu ' d you ? Fra . Barnardo ha ' s my place : giue you goodnight . Exit Fran . Mar . Holla Barnardo Bar . Say , what is Horatio there ? Hor . A peece of him Bar . Welcome Horatio , welcome good Marcellus Mar . What , ha ' s this thing appear ' d againe to night Bar . I haue seene nothing Mar . Horatio saies , ' tis but our Fantasie , And will not let beleefe take hold of him Touching this dreaded sight , twice seene of vs , Therefore I haue intreated him along With vs , to watch the minutes of this Night , That if againe this Apparition come , He may approue our eyes , and speake to it Hor . Tush , tush , ' twill not appeare Bar . Sit downe a - while , And let vs once againe assaile your eares , That are so fortified against our Story , What we two Nights haue seene Hor . Well , sit we downe , And let vs heare Barnardo speake of this Barn . Last night of all , When yond same Starre that ' s Westward from the Pole Had made his course t ' illume that part of Heauen Where now it burnes , Marcellus and my selfe , The Bell then beating one Mar . Peace , breake thee of : Enter the Ghost . Looke where it comes againe Barn . In the same figure , like the King that ' s dead Mar . Thou art a Scholler ; speake to it Horatio Barn . Lookes it not like the King ? Marke it Horatio Hora . Most like : It harrowes me with fear & wonder Barn . It would be spoke too Mar . Question it Horatio Hor . What art "
     ]
    }
   ],
   "source": [
    "for word in hamlet [:500]:\n",
    "    print(word ,sep =' ',end= ' ')\n"
   ]
  },
  {
   "cell_type": "code",
   "execution_count": 9,
   "id": "ded977bf-89b6-4c30-80ad-0b0d58f3641b",
   "metadata": {},
   "outputs": [
    {
     "name": "stderr",
     "output_type": "stream",
     "text": [
      "[nltk_data] Downloading package punkt_tab to\n",
      "[nltk_data]     /Users/adityachaudhary/nltk_data...\n",
      "[nltk_data]   Unzipping tokenizers/punkt_tab.zip.\n"
     ]
    },
    {
     "data": {
      "text/plain": [
       "True"
      ]
     },
     "execution_count": 9,
     "metadata": {},
     "output_type": "execute_result"
    }
   ],
   "source": [
    "import nltk\n",
    "nltk.download('punkt_tab')"
   ]
  },
  {
   "cell_type": "code",
   "execution_count": 11,
   "id": "e653bcbf",
   "metadata": {},
   "outputs": [
    {
     "name": "stdout",
     "output_type": "stream",
     "text": [
      "['Hi', ',', 'I', '’', 'm', 'Aditya', 'Chaudhary', ',', 'a', 'student', 'from', 'Central', 'University', 'of', 'Jammu', '.', 'I', '’', 'm', 'learning', 'web', 'development', ',', 'machine', 'learning', ',', 'and', 'algorithms', '.', 'I', 'like', 'to', 'write', 'about', 'what', 'I', 'learn', 'and', 'build', 'projects', 'to', 'improve', 'my', 'skills', '.']\n"
     ]
    }
   ],
   "source": [
    "from nltk.tokenize import word_tokenize\n",
    "\n",
    "intro = \"\"\"Hi, I’m Aditya Chaudhary ,a student from Central University of Jammu. I’m learning web development, machine learning, and algorithms. I like to write about what I learn and build projects to improve my skills.\"\"\"\n",
    "intro_token = word_tokenize(intro)\n",
    "print(intro_token)"
   ]
  },
  {
   "cell_type": "code",
   "execution_count": 12,
   "id": "67b85d94-48e7-409d-b8d1-11eac04e4755",
   "metadata": {},
   "outputs": [
    {
     "data": {
      "text/plain": [
       "209"
      ]
     },
     "execution_count": 12,
     "metadata": {},
     "output_type": "execute_result"
    }
   ],
   "source": [
    "len(intro)"
   ]
  },
  {
   "cell_type": "code",
   "execution_count": 13,
   "id": "b12d5038-bdda-4672-a3ed-89614f845c44",
   "metadata": {},
   "outputs": [],
   "source": [
    "from nltk.probability import FreqDist"
   ]
  },
  {
   "cell_type": "code",
   "execution_count": 25,
   "id": "f9e25379-d282-4f86-8e48-cdfda75bed41",
   "metadata": {},
   "outputs": [
    {
     "data": {
      "text/plain": [
       "FreqDist({',': 4, 'i': 4, '.': 3, '’': 2, 'm': 2, 'learning': 2, 'and': 2, 'to': 2, 'hi': 1, 'aditya': 1, ...})"
      ]
     },
     "execution_count": 25,
     "metadata": {},
     "output_type": "execute_result"
    }
   ],
   "source": [
    "fdist = FreqDist(word.lower() for word in intro_token) # Initialize FreqDist with lowercase tokens\n",
    "fdist\n"
   ]
  },
  {
   "cell_type": "code",
   "execution_count": 28,
   "id": "02e18e9e-024b-409b-a31b-fd6fa693a69a",
   "metadata": {},
   "outputs": [
    {
     "data": {
      "text/plain": [
       "1"
      ]
     },
     "execution_count": 28,
     "metadata": {},
     "output_type": "execute_result"
    }
   ],
   "source": [
    "fdist['aditya']"
   ]
  },
  {
   "cell_type": "code",
   "execution_count": 30,
   "id": "0f45cf99-85f4-45f1-a3ac-bbc5a47014f1",
   "metadata": {},
   "outputs": [
    {
     "data": {
      "text/plain": [
       "[(',', 4), ('i', 4), ('.', 3), ('’', 2), ('m', 2)]"
      ]
     },
     "execution_count": 30,
     "metadata": {},
     "output_type": "execute_result"
    }
   ],
   "source": [
    "fdist.most_common(5)"
   ]
  },
  {
   "cell_type": "code",
   "execution_count": 36,
   "id": "104b08e4-8095-4373-b287-e9d55c403ed9",
   "metadata": {},
   "outputs": [
    {
     "data": {
      "text/plain": [
       "[('“', 'Time', 'is', 'what', 'we'),\n",
       " ('Time', 'is', 'what', 'we', 'want'),\n",
       " ('is', 'what', 'we', 'want', 'most'),\n",
       " ('what', 'we', 'want', 'most', ','),\n",
       " ('we', 'want', 'most', ',', 'but'),\n",
       " ('want', 'most', ',', 'but', 'what'),\n",
       " ('most', ',', 'but', 'what', 'we'),\n",
       " (',', 'but', 'what', 'we', 'use'),\n",
       " ('but', 'what', 'we', 'use', 'worst'),\n",
       " ('what', 'we', 'use', 'worst', '.'),\n",
       " ('we', 'use', 'worst', '.', '”')]"
      ]
     },
     "execution_count": 36,
     "metadata": {},
     "output_type": "execute_result"
    }
   ],
   "source": [
    "from nltk.util import bigrams ,trigrams ,ngrams\n",
    "string=\"“Time is what we want most, but what we use worst.”\"\n",
    "quote_tokens=word_tokenize(string)\n",
    "quote_ngrams=list(nltk.ngrams(quote_tokens,5))\n",
    "quote_ngrams"
   ]
  },
  {
   "cell_type": "code",
   "execution_count": null,
   "id": "954f53ad-346a-443c-ba4b-51a51070c850",
   "metadata": {},
   "outputs": [],
   "source": []
  }
 ],
 "metadata": {
  "kernelspec": {
   "display_name": "Python 3 (ipykernel)",
   "language": "python",
   "name": "python3"
  },
  "language_info": {
   "codemirror_mode": {
    "name": "ipython",
    "version": 3
   },
   "file_extension": ".py",
   "mimetype": "text/x-python",
   "name": "python",
   "nbconvert_exporter": "python",
   "pygments_lexer": "ipython3",
   "version": "3.13.1"
  }
 },
 "nbformat": 4,
 "nbformat_minor": 5
}
